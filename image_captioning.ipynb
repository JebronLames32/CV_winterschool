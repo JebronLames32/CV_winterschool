{
 "cells": [
  {
   "attachments": {},
   "cell_type": "markdown",
   "metadata": {},
   "source": [
    "### Run the shell file(coco.sh) first to download the COCO dataset"
   ]
  },
  {
   "cell_type": "code",
   "execution_count": 1,
   "metadata": {},
   "outputs": [],
   "source": [
    "import torch\n",
    "import torch.nn as nn\n",
    "import torch.optim as optim\n",
    "import torchvision.transforms as transforms\n",
    "from torch.utils.data import DataLoader\n",
    "from torch.nn.utils.rnn import pack_padded_sequence\n",
    "from torchvision.datasets import CocoCaptions\n",
    "from nltk.translate.bleu_score import corpus_bleu\n",
    "from pycocoevalcap.cider.cider import Cider\n",
    "\n",
    "\n",
    "image_path = './image.jpg'"
   ]
  },
  {
   "cell_type": "code",
   "execution_count": null,
   "metadata": {},
   "outputs": [],
   "source": [
    "# Step 1: Dataset Preparation\n",
    "transform = transforms.Compose([\n",
    "    transforms.Resize((224, 224)),\n",
    "    transforms.ToTensor()\n",
    "])\n",
    "\n",
    "train_dataset = CocoCaptions(root='./coco./images/train2017',\n",
    "                             annFile='./coco./annotations/captions_train2017.json',\n",
    "                             transform=transform)\n",
    "\n",
    "val_dataset = CocoCaptions(root='./coco./images/val2017',\n",
    "                           annFile='./coco./annotations/captions_val2017.json',\n",
    "                           transform=transform)\n",
    "\n",
    "test_dataset = CocoCaptions(root='./coco./images/test2017',\n",
    "                            annFile='./coco./annotations/image_info_test2017.json',\n",
    "                            transform=transform)"
   ]
  },
  {
   "cell_type": "code",
   "execution_count": null,
   "metadata": {},
   "outputs": [],
   "source": [
    "# Step 2: Data Preprocessing\n",
    "def build_vocab(dataset):\n",
    "    captions = [caption for _, caption in dataset.coco.anns.items()]\n",
    "    word_freq = {}\n",
    "    for caption in captions:\n",
    "        for word in caption.lower().split():\n",
    "            word_freq[word] = word_freq.get(word, 0) + 1\n",
    "\n",
    "    vocab = [word for word, freq in word_freq.items() if freq >= min_word_freq]\n",
    "    vocab.insert(0, '<start>')\n",
    "    vocab.append('<end>')\n",
    "    vocab.append('<unk>')\n",
    "    return vocab\n",
    "\n",
    "def tokenize_captions(dataset, vocab):\n",
    "    dataset.vocab = vocab\n",
    "    dataset.word2idx = {word: idx for idx, word in enumerate(vocab)}\n",
    "    dataset.idx2word = {idx: word for idx, word in enumerate(vocab)}\n",
    "\n",
    "    for ann_id, ann in dataset.coco.anns.items():\n",
    "        caption = ann['caption']\n",
    "        tokens = []\n",
    "        tokens.append(dataset.word2idx['<start>'])\n",
    "        tokens.extend([dataset.word2idx.get(word, dataset.word2idx['<unk>']) for word in caption.lower().split()])\n",
    "        tokens.append(dataset.word2idx['<end>'])\n",
    "        dataset.coco.anns[ann_id]['tokens'] = tokens"
   ]
  },
  {
   "cell_type": "code",
   "execution_count": null,
   "metadata": {},
   "outputs": [],
   "source": [
    "# Step 3: Model Architecture\n",
    "class ImageCaptioningModel(nn.Module):\n",
    "    def __init__(self, embed_size, hidden_size, vocab_size):\n",
    "        super(ImageCaptioningModel, self).__init__()\n",
    "        self.embedding = nn.Embedding(vocab_size, embed_size)\n",
    "        self.cnn = torchvision.models.resnet50(pretrained=True)\n",
    "        self.rnn = nn.LSTM(embed_size, hidden_size, batch_first=True)\n",
    "        self.fc = nn.Linear(hidden_size, vocab_size)\n",
    "\n",
    "    def forward(self, images, captions, lengths):\n",
    "        features = self.cnn(images)\n",
    "        embeddings = self.embedding(captions)\n",
    "        embeddings = torch.cat((features.unsqueeze(1), embeddings), dim=1)\n",
    "        packed = pack_padded_sequence(embeddings, lengths, batch_first=True)\n",
    "        hiddens, _ = self.rnn(packed)\n",
    "        outputs = self.fc(hiddens[0])\n",
    "        return outputs\n"
   ]
  },
  {
   "cell_type": "code",
   "execution_count": null,
   "metadata": {},
   "outputs": [],
   "source": [
    "# Step 4: Model Training\n",
    "def train(model, train_loader, criterion, optimizer, device):\n",
    "    model.train()\n",
    "    total_loss = 0.0\n",
    "\n",
    "    for i, (images, captions, lengths) in enumerate(train_loader):\n",
    "        images = images.to(device)\n",
    "        captions = captions.to(device)\n",
    "        targets = pack_padded_sequence(captions, lengths, batch_first=True)[0]\n",
    "\n",
    "        optimizer.zero_grad()\n",
    "        outputs = model(images, captions, lengths)\n",
    "        loss = criterion(outputs, targets)\n",
    "        loss.backward()\n",
    "        optimizer.step()\n",
    "\n",
    "        total_loss += loss.item()\n",
    "\n",
    "    return total_loss / len(train_loader)"
   ]
  },
  {
   "cell_type": "code",
   "execution_count": null,
   "metadata": {},
   "outputs": [],
   "source": [
    "# Step 5: Inference\n",
    "def generate_caption(model, image, max_length, dataset):\n",
    "    model.eval()\n",
    "    image = image.unsqueeze(0)\n",
    "    image = image.to(device)\n",
    "\n",
    "    with torch.no_grad():\n",
    "        features = model.cnn(image)\n",
    "        inputs = torch.tensor([dataset.word2idx['<start>']], device=device).unsqueeze(0)\n",
    "\n",
    "        caption = []\n",
    "\n",
    "        for _ in range(max_length):\n",
    "            embeddings = model.embedding(inputs)\n",
    "            embeddings = torch.cat((features.unsqueeze(1), embeddings), dim=1)\n",
    "            hiddens, _ = model.rnn(embeddings)\n",
    "            outputs = model.fc(hiddens.squeeze(0))\n",
    "            _, predicted = outputs.max(1)\n",
    "            predicted_word = dataset.idx2word[predicted.item()]\n",
    "            caption.append(predicted_word)\n",
    "\n",
    "            if predicted_word == '<end>':\n",
    "                break\n",
    "\n",
    "            inputs = predicted.unsqueeze(0)\n",
    "\n",
    "    return ' '.join(caption)"
   ]
  },
  {
   "cell_type": "code",
   "execution_count": null,
   "metadata": {},
   "outputs": [],
   "source": [
    "# Step 6: Evaluation\n",
    "def evaluate(model, val_loader, dataset):\n",
    "    model.eval()\n",
    "    references = []\n",
    "    hypotheses = []\n",
    "\n",
    "    for i, (images, captions, _) in enumerate(val_loader):\n",
    "        images = images.to(device)\n",
    "\n",
    "        with torch.no_grad():\n",
    "            captions = captions[:, 1:]\n",
    "            targets = pack_padded_sequence(captions, lengths, batch_first=True)[0]\n",
    "            captions = captions.to(device)\n",
    "            targets = targets.to(device)\n",
    "\n",
    "            outputs = model(images, captions, lengths)\n",
    "            _, predicted = outputs.max(1)\n",
    "            predicted = predicted.tolist()\n",
    "\n",
    "        references.extend([[caption[1:-1].tolist()] for caption in captions])\n",
    "        hypotheses.extend(predicted)\n",
    "\n",
    "    bleu_score = corpus_bleu(references, hypotheses)\n",
    "    cider_score = compute_cider_score(references, hypotheses, dataset)\n",
    "\n",
    "    return bleu_score, cider_score\n",
    "\n",
    "def compute_cider_score(references, hypotheses, dataset):\n",
    "    cider_scorer = Cider()\n",
    "    gts = {}\n",
    "    res = {}\n",
    "\n",
    "    for i, ref in enumerate(references):\n",
    "        img_id = dataset.ids[i]\n",
    "        gts[img_id] = ref\n",
    "\n",
    "    for i, hyp in enumerate(hypotheses):\n",
    "        img_id = dataset.ids[i]\n",
    "        res[img_id] = hyp\n",
    "\n",
    "    _, cider_scores = cider_scorer.compute_score(gts, res)\n",
    "    return cider_scores\n"
   ]
  },
  {
   "cell_type": "code",
   "execution_count": null,
   "metadata": {},
   "outputs": [],
   "source": [
    "# Hyperparameters\n",
    "embed_size = 256\n",
    "hidden_size = 512\n",
    "num_epochs = 10\n",
    "batch_size = 64\n",
    "learning_rate = 0.001\n",
    "min_word_freq = 5\n",
    "max_caption_length = 20\n",
    "device = torch.device('cuda' if torch.cuda.is_available() else 'cpu')"
   ]
  },
  {
   "cell_type": "code",
   "execution_count": null,
   "metadata": {},
   "outputs": [],
   "source": [
    "# Step 2: Data Preprocessing\n",
    "vocab = build_vocab(train_dataset)\n",
    "tokenize_captions(train_dataset, vocab)\n",
    "tokenize_captions(val_dataset, vocab)"
   ]
  },
  {
   "cell_type": "code",
   "execution_count": null,
   "metadata": {},
   "outputs": [],
   "source": [
    "# Step 3: Model Architecture\n",
    "model = ImageCaptioningModel(embed_size, hidden_size, len(vocab)).to(device)"
   ]
  },
  {
   "cell_type": "code",
   "execution_count": null,
   "metadata": {},
   "outputs": [],
   "source": [
    "# Step 4: Model Training\n",
    "criterion = nn.CrossEntropyLoss()\n",
    "optimizer = optim.Adam(model.parameters(), lr=learning_rate)\n",
    "\n",
    "train_loader = DataLoader(train_dataset, batch_size=batch_size, shuffle=True)\n",
    "\n",
    "for epoch in range(num_epochs):\n",
    "    train_loss = train(model, train_loader, criterion, optimizer, device)\n",
    "    print(f'Epoch [{epoch+1}/{num_epochs}], Train Loss: {train_loss:.4f}')"
   ]
  },
  {
   "cell_type": "code",
   "execution_count": null,
   "metadata": {},
   "outputs": [],
   "source": [
    "# Step 5: Inference\n",
    "test_image = Image.open(image_path)\n",
    "test_image = transform(test_image).unsqueeze(0)\n",
    "\n",
    "caption = generate_caption(model, test_image, max_caption_length, train_dataset)\n",
    "\n",
    "\n",
    "\n",
    "print('Generated Caption:', caption)"
   ]
  },
  {
   "cell_type": "code",
   "execution_count": null,
   "metadata": {},
   "outputs": [],
   "source": [
    "# Step 6: Evaluation\n",
    "val_loader = DataLoader(val_dataset, batch_size=batch_size)\n",
    "bleu_score, cider_score = evaluate(model, val_loader, val_dataset)\n",
    "print(f'BLEU-4 Score: {bleu_score:.4f}')\n",
    "print(f'CIDEr Score: {cider_score:.4f}')"
   ]
  }
 ],
 "metadata": {
  "kernelspec": {
   "display_name": "base",
   "language": "python",
   "name": "python3"
  },
  "language_info": {
   "codemirror_mode": {
    "name": "ipython",
    "version": 3
   },
   "file_extension": ".py",
   "mimetype": "text/x-python",
   "name": "python",
   "nbconvert_exporter": "python",
   "pygments_lexer": "ipython3",
   "version": "3.9.13"
  },
  "orig_nbformat": 4,
  "vscode": {
   "interpreter": {
    "hash": "480e4e2dbd50c8cd9357d3518c5bb8a1d56e907cf1ff58025a5670ababb40a1b"
   }
  }
 },
 "nbformat": 4,
 "nbformat_minor": 2
}
